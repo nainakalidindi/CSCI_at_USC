{
 "cells": [
  {
   "cell_type": "code",
   "execution_count": 87,
   "metadata": {},
   "outputs": [],
   "source": [
    "import pandas as pd\n",
    "%matplotlib inline\n",
    "import matplotlib.pyplot as plt\n",
    "plt.style.use('seaborn-whitegrid')\n",
    "import numpy as np\n",
    "import seaborn as sns"
   ]
  },
  {
   "cell_type": "code",
   "execution_count": 88,
   "metadata": {},
   "outputs": [
    {
     "name": "stderr",
     "output_type": "stream",
     "text": [
      "/home/nilkanth/anaconda3/lib/python3.7/site-packages/IPython/core/interactiveshell.py:3020: DtypeWarning: Columns (10) have mixed types. Specify dtype option on import or set low_memory=False.\n",
      "  interactivity=interactivity, compiler=compiler, result=result)\n"
     ]
    }
   ],
   "source": [
    "gun_data_with_zipcode = pd.read_csv(\"GunData_withZipcode\")\n",
    "income_data = pd.read_csv(\"income_database.csv\", encoding='latin1')"
   ]
  },
  {
   "cell_type": "code",
   "execution_count": 89,
   "metadata": {},
   "outputs": [
    {
     "name": "stdout",
     "output_type": "stream",
     "text": [
      "(231754, 31)\n",
      "(231754, 31)\n"
     ]
    }
   ],
   "source": [
    "print(gun_data_with_zipcode.shape)\n",
    "gun_data_with_zipcode.drop_duplicates(subset=['incident_id'], keep=False, inplace=True)\n",
    "print(gun_data_with_zipcode.shape)"
   ]
  },
  {
   "cell_type": "code",
   "execution_count": 90,
   "metadata": {},
   "outputs": [
    {
     "data": {
      "text/html": [
       "<div>\n",
       "<style scoped>\n",
       "    .dataframe tbody tr th:only-of-type {\n",
       "        vertical-align: middle;\n",
       "    }\n",
       "\n",
       "    .dataframe tbody tr th {\n",
       "        vertical-align: top;\n",
       "    }\n",
       "\n",
       "    .dataframe thead th {\n",
       "        text-align: right;\n",
       "    }\n",
       "</style>\n",
       "<table border=\"1\" class=\"dataframe\">\n",
       "  <thead>\n",
       "    <tr style=\"text-align: right;\">\n",
       "      <th></th>\n",
       "      <th>id</th>\n",
       "      <th>State_Code</th>\n",
       "      <th>State_Name</th>\n",
       "      <th>State_ab</th>\n",
       "      <th>County</th>\n",
       "      <th>City</th>\n",
       "      <th>Place</th>\n",
       "      <th>Type</th>\n",
       "      <th>Primary</th>\n",
       "      <th>Zip_Code</th>\n",
       "      <th>Area_Code</th>\n",
       "      <th>ALand</th>\n",
       "      <th>AWater</th>\n",
       "      <th>Lat</th>\n",
       "      <th>Lon</th>\n",
       "      <th>Mean</th>\n",
       "      <th>Median</th>\n",
       "      <th>Stdev</th>\n",
       "      <th>sum_w</th>\n",
       "    </tr>\n",
       "  </thead>\n",
       "  <tbody>\n",
       "    <tr>\n",
       "      <th>0</th>\n",
       "      <td>1011000</td>\n",
       "      <td>1</td>\n",
       "      <td>Alabama</td>\n",
       "      <td>AL</td>\n",
       "      <td>Mobile County</td>\n",
       "      <td>Chickasaw</td>\n",
       "      <td>Chickasaw city</td>\n",
       "      <td>City</td>\n",
       "      <td>place</td>\n",
       "      <td>36611</td>\n",
       "      <td>251</td>\n",
       "      <td>10894952</td>\n",
       "      <td>909156</td>\n",
       "      <td>30.771450</td>\n",
       "      <td>-88.079697</td>\n",
       "      <td>38773</td>\n",
       "      <td>30506</td>\n",
       "      <td>33101</td>\n",
       "      <td>1638</td>\n",
       "    </tr>\n",
       "    <tr>\n",
       "      <th>1</th>\n",
       "      <td>1011001</td>\n",
       "      <td>1</td>\n",
       "      <td>Alabama</td>\n",
       "      <td>AL</td>\n",
       "      <td>Talladega County</td>\n",
       "      <td>Childersburg</td>\n",
       "      <td>Childersburg city</td>\n",
       "      <td>City</td>\n",
       "      <td>place</td>\n",
       "      <td>35044</td>\n",
       "      <td>256</td>\n",
       "      <td>31919335</td>\n",
       "      <td>652240</td>\n",
       "      <td>33.291877</td>\n",
       "      <td>-86.340599</td>\n",
       "      <td>39421</td>\n",
       "      <td>25400</td>\n",
       "      <td>43141</td>\n",
       "      <td>1642</td>\n",
       "    </tr>\n",
       "    <tr>\n",
       "      <th>2</th>\n",
       "      <td>1011002</td>\n",
       "      <td>1</td>\n",
       "      <td>Alabama</td>\n",
       "      <td>AL</td>\n",
       "      <td>Calhoun County</td>\n",
       "      <td>Anniston</td>\n",
       "      <td>Choccolocco</td>\n",
       "      <td>CDP</td>\n",
       "      <td>place</td>\n",
       "      <td>36207</td>\n",
       "      <td>256</td>\n",
       "      <td>30159923</td>\n",
       "      <td>239225</td>\n",
       "      <td>33.674346</td>\n",
       "      <td>-85.710918</td>\n",
       "      <td>73511</td>\n",
       "      <td>54847</td>\n",
       "      <td>62988</td>\n",
       "      <td>554</td>\n",
       "    </tr>\n",
       "    <tr>\n",
       "      <th>3</th>\n",
       "      <td>1011003</td>\n",
       "      <td>1</td>\n",
       "      <td>Alabama</td>\n",
       "      <td>AL</td>\n",
       "      <td>Mobile County</td>\n",
       "      <td>Wilmer</td>\n",
       "      <td>Chunchula</td>\n",
       "      <td>CDP</td>\n",
       "      <td>place</td>\n",
       "      <td>36587</td>\n",
       "      <td>251</td>\n",
       "      <td>4671130</td>\n",
       "      <td>21008</td>\n",
       "      <td>30.927194</td>\n",
       "      <td>-88.208200</td>\n",
       "      <td>34753</td>\n",
       "      <td>300000</td>\n",
       "      <td>28467</td>\n",
       "      <td>55</td>\n",
       "    </tr>\n",
       "    <tr>\n",
       "      <th>4</th>\n",
       "      <td>1011004</td>\n",
       "      <td>1</td>\n",
       "      <td>Alabama</td>\n",
       "      <td>AL</td>\n",
       "      <td>Mobile County</td>\n",
       "      <td>Citronelle</td>\n",
       "      <td>Citronelle city</td>\n",
       "      <td>City</td>\n",
       "      <td>place</td>\n",
       "      <td>36522</td>\n",
       "      <td>251</td>\n",
       "      <td>66930189</td>\n",
       "      <td>713078</td>\n",
       "      <td>31.097269</td>\n",
       "      <td>-88.249843</td>\n",
       "      <td>56102</td>\n",
       "      <td>48865</td>\n",
       "      <td>44810</td>\n",
       "      <td>892</td>\n",
       "    </tr>\n",
       "  </tbody>\n",
       "</table>\n",
       "</div>"
      ],
      "text/plain": [
       "        id  State_Code State_Name State_ab            County          City  \\\n",
       "0  1011000           1    Alabama       AL     Mobile County     Chickasaw   \n",
       "1  1011001           1    Alabama       AL  Talladega County  Childersburg   \n",
       "2  1011002           1    Alabama       AL    Calhoun County      Anniston   \n",
       "3  1011003           1    Alabama       AL     Mobile County        Wilmer   \n",
       "4  1011004           1    Alabama       AL     Mobile County    Citronelle   \n",
       "\n",
       "               Place  Type Primary  Zip_Code Area_Code     ALand  AWater  \\\n",
       "0     Chickasaw city  City   place     36611       251  10894952  909156   \n",
       "1  Childersburg city  City   place     35044       256  31919335  652240   \n",
       "2        Choccolocco   CDP   place     36207       256  30159923  239225   \n",
       "3          Chunchula   CDP   place     36587       251   4671130   21008   \n",
       "4    Citronelle city  City   place     36522       251  66930189  713078   \n",
       "\n",
       "         Lat        Lon   Mean  Median  Stdev  sum_w  \n",
       "0  30.771450 -88.079697  38773   30506  33101   1638  \n",
       "1  33.291877 -86.340599  39421   25400  43141   1642  \n",
       "2  33.674346 -85.710918  73511   54847  62988    554  \n",
       "3  30.927194 -88.208200  34753  300000  28467     55  \n",
       "4  31.097269 -88.249843  56102   48865  44810    892  "
      ]
     },
     "execution_count": 90,
     "metadata": {},
     "output_type": "execute_result"
    }
   ],
   "source": [
    "income_data.head(5)"
   ]
  },
  {
   "cell_type": "code",
   "execution_count": 91,
   "metadata": {},
   "outputs": [],
   "source": [
    "income_data.rename(columns={'Zip_Code': 'Zipcode'}, inplace=True)"
   ]
  },
  {
   "cell_type": "code",
   "execution_count": 92,
   "metadata": {},
   "outputs": [
    {
     "name": "stdout",
     "output_type": "stream",
     "text": [
      "(325259, 19)\n",
      "(22109, 19)\n"
     ]
    }
   ],
   "source": [
    "print(income_data.shape)\n",
    "income_data.drop_duplicates(subset=['Zipcode'], keep= \"last\", inplace=True)\n",
    "print(income_data.shape)"
   ]
  },
  {
   "cell_type": "code",
   "execution_count": 93,
   "metadata": {},
   "outputs": [],
   "source": [
    "result = pd.merge(gun_data_with_zipcode,income_data,on='Zipcode',how='left')"
   ]
  },
  {
   "cell_type": "code",
   "execution_count": 94,
   "metadata": {},
   "outputs": [
    {
     "data": {
      "text/html": [
       "<div>\n",
       "<style scoped>\n",
       "    .dataframe tbody tr th:only-of-type {\n",
       "        vertical-align: middle;\n",
       "    }\n",
       "\n",
       "    .dataframe tbody tr th {\n",
       "        vertical-align: top;\n",
       "    }\n",
       "\n",
       "    .dataframe thead th {\n",
       "        text-align: right;\n",
       "    }\n",
       "</style>\n",
       "<table border=\"1\" class=\"dataframe\">\n",
       "  <thead>\n",
       "    <tr style=\"text-align: right;\">\n",
       "      <th></th>\n",
       "      <th>Unnamed: 0</th>\n",
       "      <th>incident_id</th>\n",
       "      <th>date</th>\n",
       "      <th>state</th>\n",
       "      <th>city_or_county</th>\n",
       "      <th>address</th>\n",
       "      <th>n_killed</th>\n",
       "      <th>n_injured</th>\n",
       "      <th>incident_url</th>\n",
       "      <th>source_url</th>\n",
       "      <th>...</th>\n",
       "      <th>Primary</th>\n",
       "      <th>Area_Code</th>\n",
       "      <th>ALand</th>\n",
       "      <th>AWater</th>\n",
       "      <th>Lat</th>\n",
       "      <th>Lon</th>\n",
       "      <th>Mean</th>\n",
       "      <th>Median</th>\n",
       "      <th>Stdev</th>\n",
       "      <th>sum_w</th>\n",
       "    </tr>\n",
       "  </thead>\n",
       "  <tbody>\n",
       "    <tr>\n",
       "      <th>0</th>\n",
       "      <td>0</td>\n",
       "      <td>461105</td>\n",
       "      <td>2013-01-01</td>\n",
       "      <td>Pennsylvania</td>\n",
       "      <td>Mckeesport</td>\n",
       "      <td>1506 Versailles Avenue and Coursin Street</td>\n",
       "      <td>0</td>\n",
       "      <td>4</td>\n",
       "      <td>http://www.gunviolencearchive.org/incident/461105</td>\n",
       "      <td>http://www.post-gazette.com/local/south/2013/0...</td>\n",
       "      <td>...</td>\n",
       "      <td>Track</td>\n",
       "      <td>412</td>\n",
       "      <td>2044622.0</td>\n",
       "      <td>200574.0</td>\n",
       "      <td>40.333213</td>\n",
       "      <td>-79.843633</td>\n",
       "      <td>51174.0</td>\n",
       "      <td>35169.0</td>\n",
       "      <td>48665.0</td>\n",
       "      <td>392.0</td>\n",
       "    </tr>\n",
       "    <tr>\n",
       "      <th>1</th>\n",
       "      <td>1</td>\n",
       "      <td>460726</td>\n",
       "      <td>2013-01-01</td>\n",
       "      <td>California</td>\n",
       "      <td>Hawthorne</td>\n",
       "      <td>13500 block of Cerise Avenue</td>\n",
       "      <td>1</td>\n",
       "      <td>3</td>\n",
       "      <td>http://www.gunviolencearchive.org/incident/460726</td>\n",
       "      <td>http://www.dailybulletin.com/article/zz/201301...</td>\n",
       "      <td>...</td>\n",
       "      <td>Track</td>\n",
       "      <td>310</td>\n",
       "      <td>937510.0</td>\n",
       "      <td>0.0</td>\n",
       "      <td>33.889392</td>\n",
       "      <td>-118.322347</td>\n",
       "      <td>87496.0</td>\n",
       "      <td>77137.0</td>\n",
       "      <td>60739.0</td>\n",
       "      <td>699.0</td>\n",
       "    </tr>\n",
       "    <tr>\n",
       "      <th>2</th>\n",
       "      <td>2</td>\n",
       "      <td>478855</td>\n",
       "      <td>2013-01-01</td>\n",
       "      <td>Ohio</td>\n",
       "      <td>Lorain</td>\n",
       "      <td>1776 East 28th Street</td>\n",
       "      <td>1</td>\n",
       "      <td>3</td>\n",
       "      <td>http://www.gunviolencearchive.org/incident/478855</td>\n",
       "      <td>http://chronicle.northcoastnow.com/2013/02/14/...</td>\n",
       "      <td>...</td>\n",
       "      <td>Track</td>\n",
       "      <td>440</td>\n",
       "      <td>7941068.0</td>\n",
       "      <td>48525.0</td>\n",
       "      <td>41.412195</td>\n",
       "      <td>-82.127277</td>\n",
       "      <td>54357.0</td>\n",
       "      <td>43887.0</td>\n",
       "      <td>41509.0</td>\n",
       "      <td>298.0</td>\n",
       "    </tr>\n",
       "    <tr>\n",
       "      <th>3</th>\n",
       "      <td>3</td>\n",
       "      <td>478925</td>\n",
       "      <td>2013-01-05</td>\n",
       "      <td>Colorado</td>\n",
       "      <td>Aurora</td>\n",
       "      <td>16000 block of East Ithaca Place</td>\n",
       "      <td>4</td>\n",
       "      <td>0</td>\n",
       "      <td>http://www.gunviolencearchive.org/incident/478925</td>\n",
       "      <td>http://www.dailydemocrat.com/20130106/aurora-s...</td>\n",
       "      <td>...</td>\n",
       "      <td>Track</td>\n",
       "      <td>720</td>\n",
       "      <td>1730312.0</td>\n",
       "      <td>0.0</td>\n",
       "      <td>39.645536</td>\n",
       "      <td>-104.803854</td>\n",
       "      <td>78492.0</td>\n",
       "      <td>73500.0</td>\n",
       "      <td>48146.0</td>\n",
       "      <td>772.0</td>\n",
       "    </tr>\n",
       "    <tr>\n",
       "      <th>4</th>\n",
       "      <td>4</td>\n",
       "      <td>478959</td>\n",
       "      <td>2013-01-07</td>\n",
       "      <td>North Carolina</td>\n",
       "      <td>Greensboro</td>\n",
       "      <td>307 Mourning Dove Terrace</td>\n",
       "      <td>2</td>\n",
       "      <td>2</td>\n",
       "      <td>http://www.gunviolencearchive.org/incident/478959</td>\n",
       "      <td>http://www.journalnow.com/news/local/article_d...</td>\n",
       "      <td>...</td>\n",
       "      <td>Track</td>\n",
       "      <td>336</td>\n",
       "      <td>25484693.0</td>\n",
       "      <td>199628.0</td>\n",
       "      <td>36.156962</td>\n",
       "      <td>-79.948558</td>\n",
       "      <td>116784.0</td>\n",
       "      <td>106241.0</td>\n",
       "      <td>69994.0</td>\n",
       "      <td>564.0</td>\n",
       "    </tr>\n",
       "    <tr>\n",
       "      <th>5</th>\n",
       "      <td>5</td>\n",
       "      <td>478948</td>\n",
       "      <td>2013-01-07</td>\n",
       "      <td>Oklahoma</td>\n",
       "      <td>Tulsa</td>\n",
       "      <td>6000 block of South Owasso</td>\n",
       "      <td>4</td>\n",
       "      <td>0</td>\n",
       "      <td>http://www.gunviolencearchive.org/incident/478948</td>\n",
       "      <td>http://usnews.nbcnews.com/_news/2013/01/07/163...</td>\n",
       "      <td>...</td>\n",
       "      <td>Track</td>\n",
       "      <td>918</td>\n",
       "      <td>18982198.0</td>\n",
       "      <td>27864.0</td>\n",
       "      <td>36.255179</td>\n",
       "      <td>-95.950726</td>\n",
       "      <td>44750.0</td>\n",
       "      <td>32266.0</td>\n",
       "      <td>40480.0</td>\n",
       "      <td>605.0</td>\n",
       "    </tr>\n",
       "  </tbody>\n",
       "</table>\n",
       "<p>6 rows × 49 columns</p>\n",
       "</div>"
      ],
      "text/plain": [
       "   Unnamed: 0  incident_id        date           state city_or_county  \\\n",
       "0           0       461105  2013-01-01    Pennsylvania     Mckeesport   \n",
       "1           1       460726  2013-01-01      California      Hawthorne   \n",
       "2           2       478855  2013-01-01            Ohio         Lorain   \n",
       "3           3       478925  2013-01-05        Colorado         Aurora   \n",
       "4           4       478959  2013-01-07  North Carolina     Greensboro   \n",
       "5           5       478948  2013-01-07        Oklahoma          Tulsa   \n",
       "\n",
       "                                     address  n_killed  n_injured  \\\n",
       "0  1506 Versailles Avenue and Coursin Street         0          4   \n",
       "1               13500 block of Cerise Avenue         1          3   \n",
       "2                      1776 East 28th Street         1          3   \n",
       "3           16000 block of East Ithaca Place         4          0   \n",
       "4                  307 Mourning Dove Terrace         2          2   \n",
       "5                 6000 block of South Owasso         4          0   \n",
       "\n",
       "                                        incident_url  \\\n",
       "0  http://www.gunviolencearchive.org/incident/461105   \n",
       "1  http://www.gunviolencearchive.org/incident/460726   \n",
       "2  http://www.gunviolencearchive.org/incident/478855   \n",
       "3  http://www.gunviolencearchive.org/incident/478925   \n",
       "4  http://www.gunviolencearchive.org/incident/478959   \n",
       "5  http://www.gunviolencearchive.org/incident/478948   \n",
       "\n",
       "                                          source_url  ...    Primary  \\\n",
       "0  http://www.post-gazette.com/local/south/2013/0...  ...      Track   \n",
       "1  http://www.dailybulletin.com/article/zz/201301...  ...      Track   \n",
       "2  http://chronicle.northcoastnow.com/2013/02/14/...  ...      Track   \n",
       "3  http://www.dailydemocrat.com/20130106/aurora-s...  ...      Track   \n",
       "4  http://www.journalnow.com/news/local/article_d...  ...      Track   \n",
       "5  http://usnews.nbcnews.com/_news/2013/01/07/163...  ...      Track   \n",
       "\n",
       "   Area_Code       ALand    AWater        Lat         Lon      Mean    Median  \\\n",
       "0        412   2044622.0  200574.0  40.333213  -79.843633   51174.0   35169.0   \n",
       "1        310    937510.0       0.0  33.889392 -118.322347   87496.0   77137.0   \n",
       "2        440   7941068.0   48525.0  41.412195  -82.127277   54357.0   43887.0   \n",
       "3        720   1730312.0       0.0  39.645536 -104.803854   78492.0   73500.0   \n",
       "4        336  25484693.0  199628.0  36.156962  -79.948558  116784.0  106241.0   \n",
       "5        918  18982198.0   27864.0  36.255179  -95.950726   44750.0   32266.0   \n",
       "\n",
       "     Stdev  sum_w  \n",
       "0  48665.0  392.0  \n",
       "1  60739.0  699.0  \n",
       "2  41509.0  298.0  \n",
       "3  48146.0  772.0  \n",
       "4  69994.0  564.0  \n",
       "5  40480.0  605.0  \n",
       "\n",
       "[6 rows x 49 columns]"
      ]
     },
     "execution_count": 94,
     "metadata": {},
     "output_type": "execute_result"
    }
   ],
   "source": [
    "result.head(6)"
   ]
  },
  {
   "cell_type": "code",
   "execution_count": 95,
   "metadata": {},
   "outputs": [],
   "source": [
    "result = result[np.isfinite(result['sum_w'])]"
   ]
  },
  {
   "cell_type": "code",
   "execution_count": 96,
   "metadata": {},
   "outputs": [
    {
     "data": {
      "text/plain": [
       "Unnamed: 0                          0\n",
       "incident_id                         0\n",
       "date                                0\n",
       "state                               0\n",
       "city_or_county                      0\n",
       "address                         13631\n",
       "n_killed                            0\n",
       "n_injured                           0\n",
       "incident_url                        0\n",
       "source_url                        392\n",
       "incident_url_fields_missing         0\n",
       "congressional_district           3678\n",
       "gun_stolen                      92462\n",
       "gun_type                        92440\n",
       "incident_characteristics          297\n",
       "latitude                            0\n",
       "location_description           177250\n",
       "longitude                           0\n",
       "n_guns_involved                 92440\n",
       "notes                           73037\n",
       "participant_age                 83617\n",
       "participant_age_group           37899\n",
       "participant_gender              32657\n",
       "participant_name               112147\n",
       "participant_relationship       200650\n",
       "participant_status              24682\n",
       "participant_type                22124\n",
       "sources                           534\n",
       "state_house_district            28019\n",
       "state_senate_district           21581\n",
       "Zipcode                             0\n",
       "id                                  0\n",
       "State_Code                          0\n",
       "State_Name                          0\n",
       "State_ab                            0\n",
       "County                              0\n",
       "City                                0\n",
       "Place                               0\n",
       "Type                                0\n",
       "Primary                             0\n",
       "Area_Code                           0\n",
       "ALand                               0\n",
       "AWater                              0\n",
       "Lat                                 0\n",
       "Lon                                 0\n",
       "Mean                                0\n",
       "Median                              0\n",
       "Stdev                               0\n",
       "sum_w                               0\n",
       "dtype: int64"
      ]
     },
     "execution_count": 96,
     "metadata": {},
     "output_type": "execute_result"
    }
   ],
   "source": [
    "result.isnull().sum(axis = 0)"
   ]
  },
  {
   "cell_type": "code",
   "execution_count": 97,
   "metadata": {},
   "outputs": [],
   "source": [
    "#joined_data.to_csv(\"Joined_dataset.csv\")"
   ]
  },
  {
   "cell_type": "code",
   "execution_count": null,
   "metadata": {
    "scrolled": true
   },
   "outputs": [],
   "source": []
  },
  {
   "cell_type": "code",
   "execution_count": 98,
   "metadata": {},
   "outputs": [],
   "source": [
    "sorted_on_date = result.sort_values(by = \"date\", ascending= False)"
   ]
  },
  {
   "cell_type": "code",
   "execution_count": 99,
   "metadata": {},
   "outputs": [],
   "source": [
    "sorted_on_date['date'] = pd.to_datetime(sorted_on_date['date'])  "
   ]
  },
  {
   "cell_type": "code",
   "execution_count": 100,
   "metadata": {},
   "outputs": [],
   "source": [
    "mask = (sorted_on_date['date'] > '2018-1-1')\n",
    "greater_than_2018 = sorted_on_date.loc[mask]\n",
    "mask2 = (sorted_on_date['date'] > '2017-1-1') & (sorted_on_date['date'] < '2018-1-1')\n",
    "greater_than_2017 = sorted_on_date.loc[mask2]"
   ]
  },
  {
   "cell_type": "code",
   "execution_count": 101,
   "metadata": {},
   "outputs": [
    {
     "data": {
      "text/plain": [
       "Index(['Unnamed: 0', 'incident_id', 'date', 'state', 'city_or_county',\n",
       "       'address', 'n_killed', 'n_injured', 'incident_url', 'source_url',\n",
       "       'incident_url_fields_missing', 'congressional_district', 'gun_stolen',\n",
       "       'gun_type', 'incident_characteristics', 'latitude',\n",
       "       'location_description', 'longitude', 'n_guns_involved', 'notes',\n",
       "       'participant_age', 'participant_age_group', 'participant_gender',\n",
       "       'participant_name', 'participant_relationship', 'participant_status',\n",
       "       'participant_type', 'sources', 'state_house_district',\n",
       "       'state_senate_district', 'Zipcode', 'id', 'State_Code', 'State_Name',\n",
       "       'State_ab', 'County', 'City', 'Place', 'Type', 'Primary', 'Area_Code',\n",
       "       'ALand', 'AWater', 'Lat', 'Lon', 'Mean', 'Median', 'Stdev', 'sum_w'],\n",
       "      dtype='object')"
      ]
     },
     "execution_count": 101,
     "metadata": {},
     "output_type": "execute_result"
    }
   ],
   "source": [
    "sorted_on_date.columns"
   ]
  },
  {
   "cell_type": "code",
   "execution_count": 102,
   "metadata": {},
   "outputs": [
    {
     "data": {
      "text/plain": [
       "[<matplotlib.lines.Line2D at 0x7f2c597faba8>]"
      ]
     },
     "execution_count": 102,
     "metadata": {},
     "output_type": "execute_result"
    },
    {
     "data": {
      "image/png": "[encoded data removed]",
      "text/plain": [
       "<Figure size 432x288 with 1 Axes>"
      ]
     },
     "metadata": {},
     "output_type": "display_data"
    }
   ],
   "source": [
    "plt.plot(result[\"n_killed\"],result[\"sum_w\"],'o', color='blue')"
   ]
  },
  {
   "cell_type": "code",
   "execution_count": 103,
   "metadata": {
    "scrolled": true
   },
   "outputs": [],
   "source": [
    " # use the function regplot to make a scatterplot\n",
    "#sns.regplot(x=joined_data[\"n_killed\"], y=joined_data[\"sum_w\"])\n",
    "#sns.plt.show()"
   ]
  },
  {
   "cell_type": "code",
   "execution_count": 104,
   "metadata": {
    "scrolled": false
   },
   "outputs": [
    {
     "data": {
      "text/plain": [
       "Index(['incident_id', 'date', 'state', 'city_or_county', 'n_killed',\n",
       "       'n_injured', 'congressional_district', 'latitude', 'longitude',\n",
       "       'participant_age', 'participant_age_group', 'participant_gender',\n",
       "       'participant_status', 'participant_type', 'state_house_district',\n",
       "       'state_senate_district', 'Zipcode', 'State_Code', 'State_Name',\n",
       "       'State_ab', 'County', 'City', 'Place', 'Type', 'Primary', 'Area_Code',\n",
       "       'ALand', 'AWater', 'Lat', 'Lon', 'Mean', 'Median', 'Stdev', 'sum_w'],\n",
       "      dtype='object')"
      ]
     },
     "execution_count": 104,
     "metadata": {},
     "output_type": "execute_result"
    }
   ],
   "source": [
    "clean_df.columns"
   ]
  },
  {
   "cell_type": "code",
   "execution_count": 105,
   "metadata": {},
   "outputs": [],
   "source": [
    "result['state'] = result['state'].str.lower()"
   ]
  },
  {
   "cell_type": "markdown",
   "metadata": {},
   "source": [
    "    # State and reverse state"
   ]
  },
  {
   "cell_type": "code",
   "execution_count": 107,
   "metadata": {},
   "outputs": [],
   "source": [
    "state_dict = {}\n",
    "revert_state_dict = {}\n",
    "iterator = -1\n",
    "for index, row in result.iterrows():\n",
    "    if row['state'] in state_dict.keys():\n",
    "        continue\n",
    "    else:\n",
    "        state_dict[row['state']] = iterator\n",
    "        revert_state_dict[iterator] = row['state']\n",
    "    iterator-=1"
   ]
  },
  {
   "cell_type": "code",
   "execution_count": 108,
   "metadata": {},
   "outputs": [],
   "source": [
    "common_states = []\n",
    "for index, row in result.iterrows():\n",
    "    t = [state_dict[row['state']],1]\n",
    "    common_states.append(t)"
   ]
  },
  {
   "cell_type": "code",
   "execution_count": 109,
   "metadata": {},
   "outputs": [],
   "source": [
    "from itertools import combinations\n",
    "from pyspark import SparkContext, SparkConf\n",
    "import collections\n",
    "import sys\n",
    "from collections import defaultdict\n",
    "\n",
    "def son_phase1_singletons(incidents):\n",
    "    global parallel_data_support_threshold\n",
    "\n",
    "    counter_dict = defaultdict(int)\n",
    "    for i in incidents:\n",
    "        counter_dict[i] += 1\n",
    "\n",
    "    chunk_output = []\n",
    "    for k,v in counter_dict.items():\n",
    "        if v >= parallel_data_support_threshold:\n",
    "            chunk_output.append(k)\n",
    "    return chunk_output\n",
    "\n",
    "\n",
    "def son_phase2_singletons(input_set, candidates):\n",
    "    global support_thresh\n",
    "    counter_dict = defaultdict(int)\n",
    "    for i in input_set:\n",
    "        if i in candidates:\n",
    "            counter_dict[i] += 1\n",
    "\n",
    "    output = []\n",
    "    support_count = defaultdict(int)\n",
    "    for k,v in counter_dict.items():\n",
    "        if v >= support_thresh:\n",
    "            output.append(k)\n",
    "        else:\n",
    "            del counter_dict[k]\n",
    "    return output, counter_dict\n",
    "\n",
    "def generate_pairs(elements):\n",
    "    pairs = set()\n",
    "    elements.sort()\n",
    "    for i in elements:\n",
    "        for j in elements:\n",
    "            if i != j:\n",
    "                pairs.add((i,j))\n",
    "    pairs = list(pairs)\n",
    "    return pairs\n",
    "\n",
    "def son_phase1_pairs(input_pairs):\n",
    "    global parallel_data_support_threshold_2\n",
    "    counter_dict_2 = defaultdict(int)\n",
    "    for i in input_pairs:\n",
    "        counter_dict_2[i]+=1\n",
    "\n",
    "    candidate_pairs_2 = []\n",
    "    for k,v in counter_dict_2.items():\n",
    "        if v>= parallel_data_support_threshold_2:\n",
    "            candidate_pairs_2.append(k)\n",
    "    return candidate_pairs_2\n",
    "\n",
    "def son_phase2_pairs(input_set, candidates):\n",
    "    global support_thresh\n",
    "    counter_dict = defaultdict(int)\n",
    "    for i in input_set:\n",
    "        if i in candidates:\n",
    "            counter_dict[i] += 1\n",
    "\n",
    "    output = []\n",
    "    support_count = defaultdict(int)\n",
    "    for k,v in counter_dict.items():\n",
    "        if v >= support_thresh:\n",
    "            output.append(k)\n",
    "        else:\n",
    "            del counter_dict[k]\n",
    "    return output, counter_dict\n",
    "\n",
    "def get_rules_phase1(frequent_candidates):\n",
    "    global input_data\n",
    "    temp_res = set()\n",
    "    for i in input_data:\n",
    "        for j in frequent_candidates:\n",
    "            for k in j:\n",
    "                if k in i:\n",
    "                    temp_res.add(j)\n",
    "\n",
    "    return temp_res\n",
    "\n",
    "\n",
    "def get_rules_phase2(frequent_candidates):\n",
    "    global candidates_2, condifence\n",
    "    temp_res = set()\n",
    "    counter_dict = defaultdict(int)\n",
    "    for i in candidates_2:\n",
    "        for j in frequent_candidates:\n",
    "            for k in j:\n",
    "                if k in i:\n",
    "                    counter_dict[k] +=1\n",
    "            if j in i:\n",
    "                counter_dict[j]+=1\n",
    "\n",
    "    condifence_dict = defaultdict()\n",
    "    result = []\n",
    "    for j in frequent_candidates:\n",
    "        condifence_dict[j] = counter_dict[j]/len(frequent_candidates)\n",
    "        min_con = 100000\n",
    "        for k in j:\n",
    "            condifence_dict[k] = counter_dict[j]/ counter_dict[k]\n",
    "            if condifence_dict[k] >= min_con:\n",
    "                min_con = condifence_dict[k]\n",
    "            if min_con >= condifence:\n",
    "                result.append((j, min_con))\n",
    "    return temp_res\n",
    "\n",
    "\n",
    "def generate_frequent_singletons(input_data, support_thresh):\n",
    "    SparkContext.setSystemProperty('spark.executor.memory', '5g')\n",
    "    sc = SparkContext('local[*]')\n",
    "    parallel_data = sc.parallelize(input_data, len(input_data)/2)\n",
    "    parallel_data_support_threshold = support_thresh/parallel_data.getNumPartitions()\n",
    "    candidates = parallel_data.mapPartitions(son_phase1_singletons).distinct().collect()\n",
    "    result, count_of_keys = son_phase2_singletons(input_data , candidates)\n",
    "    return result,count_of_keys\n",
    "\n",
    "def find_frequent_patterns(input_data, support_thresh):\n",
    "    SparkContext.setSystemProperty('spark.executor.memory', '5g')\n",
    "    sc = SparkContext('local[*]')\n",
    "    result, count_dict = generate_frequent_singletons(input_data, support_thresh)\n",
    "    candidate_pairs = generate_pairs(result)\n",
    "\n",
    "    parallel_data_2 = sc.parallelize(candidate_pairs, len(input_data) / 2)\n",
    "    parallel_data_support_threshold_2 = support_thresh / parallel_data_2.getNumPartitions()\n",
    "    candidates_2 = parallel_data_2.mapPartitions(son_phase1_pairs).distinct().collect()\n",
    "\n",
    "    result_pair, count_of_keys_2 = son_phase2_singletons(input_data, candidates_2)\n",
    "    return result_pair, count_of_keys_2\n",
    "\n",
    "def generate_association_rules(input_data,frequent_candidates_main, confidence):\n",
    "    SparkContext.setSystemProperty('spark.executor.memory', '5g')\n",
    "    sc = SparkContext('local[*]')\n",
    "    parallel_frequents = sc.parallelize(frequent_candidates_main, len(frequent_candidates_main) / 2)\n",
    "    candidates_2 = parallel_frequents.mapPartitions(get_rules_phase1).distinct().collect()\n",
    "    rules_result = parallel_frequents.mapPartitions(get_rules_phase2).distinct().collect()\n",
    "    return rules_result"
   ]
  },
  {
   "cell_type": "code",
   "execution_count": 110,
   "metadata": {},
   "outputs": [],
   "source": [
    "common_states = []\n",
    "states_and_dead = []\n",
    "stated_and_injured = []\n",
    "stated_and_harmed = []\n",
    "zipcode_and_harmed = []\n",
    "for index, row in result.iterrows():\n",
    "    t = [state_dict[row['state']],1]\n",
    "    u = [state_dict[row['state']],row['n_injured']]\n",
    "    v = [state_dict[row['state']],row['n_killed']]\n",
    "    w = [state_dict[row['state']],row['n_injured']+ row['n_killed']]\n",
    "    x = [state_dict[row['state']],row['Zipcode']]\n",
    "    common_states.append(t)\n",
    "    states_and_dead.append(v)\n",
    "    stated_and_injured.append(u)\n",
    "    stated_and_harmed.append(w)\n",
    "    zipcode_and_harmed.append(x)"
   ]
  },
  {
   "cell_type": "markdown",
   "metadata": {},
   "source": [
    "# MOST COMMON STATE"
   ]
  },
  {
   "cell_type": "code",
   "execution_count": 112,
   "metadata": {},
   "outputs": [
    {
     "name": "stdout",
     "output_type": "stream",
     "text": [
      "{(-41,): 2172, (-41, 1): 2172, (-42,): 2589, (-42, 1): 2589, (-33,): 2782, (-33, 1): 2782, (-4,): 2850, (-4, 1): 2850, (-22,): 2880, (-22, 1): 2880, (-12,): 2914, (-12, 1): 2914, (-19,): 2951, (-19, 1): 2951, (-6,): 2985, (-6, 1): 2985, (-25,): 3673, (-25, 1): 3673, (-28,): 4434, (-28, 1): 4434, (-31,): 4873, (-31, 1): 4873, (-26,): 5095, (-26, 1): 5095, (-27,): 5101, (-27, 1): 5101, (-16,): 5237, (-16, 1): 5237, (-18,): 5277, (-18, 1): 5277, (-38,): 5315, (-38, 1): 5315, (-9,): 5456, (-9, 1): 5456, (-11,): 5903, (-11, 1): 5903, (-23,): 6437, (-23, 1): 6437, (-10,): 6651, (-10, 1): 6651, (-8,): 7102, (-8, 1): 7102, (-1,): 7725, (-1, 1): 7725, (-5,): 7958, (-5, 1): 7958, (-17,): 8165, (-17, 1): 8165, (-20,): 8895, (-20, 1): 8895, (-3,): 9593, (-3, 1): 9593, (-30,): 11792, (-30, 1): 11792, (-21,): 13922, (-21, 1): 13922, (-2,): 15184, (-2, 1): 15184, (-13,): 16261, (-13, 1): 16261, (1,): 214145}\n",
      "\n",
      "\n",
      "\n",
      " Rules: \n",
      "\n",
      "{(5,): ((1, 2), 1.0), (1, 5): ((2,), 1.0), (2, 5): ((1,), 1.0), (4,): ((2,), 1.0)}\n"
     ]
    }
   ],
   "source": [
    "patterns_states_freq = generate_frequent_singletons(common_states, len(common_states)/100)\n",
    "print(patterns_states_freq)\n",
    "rules_states_freq = generate_association_rules(common_states,patterns, 0.7)\n",
    "print(\"\\n\\n\\n Rules: \\n\")\n",
    "print(rules_states_freq)"
   ]
  },
  {
   "cell_type": "markdown",
   "metadata": {},
   "source": [
    "# STATE TO TYPICAL DEATHS"
   ]
  },
  {
   "cell_type": "code",
   "execution_count": 113,
   "metadata": {
    "scrolled": true
   },
   "outputs": [
    {
     "name": "stdout",
     "output_type": "stream",
     "text": [
      "{(-41,): 2172, (-42,): 2589, (-33,): 2782, (-4,): 2850, (-22,): 2880, (-12,): 2914, (-19,): 2951, (-6,): 2985, (-25,): 3673, (3,): 3801, (-28,): 4434, (-31,): 4873, (-31, 1): 2870, (-26, 1): 2237, (-26, 0): 2336, (-27,): 5101, (-27, 1): 2860, (-16, 0): 2176, (-16, 1): 2458, (-18,): 5277, (-18, 1): 2759, (-38,): 5315, (-38, 0): 3726, (-9,): 5456, (-9, 1): 3233, (-11,): 5903, (-11, 1): 3112, (-23, 0): 2905, (-23, 1): 2949, (-10, 0): 2256, (-10, 1): 3646, (-8, 0): 2483, (-8, 1): 3811, (-1, 0): 2468, (-1, 1): 4279, (-5, 0): 2961, (-5, 1): 4096, (-17, 0): 3531, (-17, 1): 3736, (-20, 0): 3818, (-20, 1): 4187, (-3, 0): 3346, (-3, 1): 5222, (-30, 0): 4310, (-30, 1): 5970, (-21, 1): 6092, (-21, 0): 6219, (-2, 0): 5846, (-2, 1): 7311, (-13, 0): 3608, (-13, 1): 10357, (2,): 17669, (0,): 86447, (1,): 104326}\n",
      "\n",
      "\n",
      "\n",
      " Rules: \n",
      "\n",
      "{(-31,): ((1,), 0.5889595731582188), (-27,): ((1,), 0.5606743775730249), (-18,): ((1,), 0.5228349440970248), (-38,): ((0,), 0.7010348071495767), (-9,): ((1,), 0.5925586510263929), (-11,): ((1,), 0.5271895646281551)}\n"
     ]
    }
   ],
   "source": [
    "patterns_states_harmed = generate_frequent_singletons(stated_and_harmed, len(stated_and_harmed)/100)\n",
    "print(patterns_states_harmed)\n",
    "rules_states_harmed = generate_association_rules(stated_and_harmed,patterns_states_harmed, 0.2)\n",
    "print(\"\\n\\n\\n Rules: \\n\")\n",
    "print(rules_states_harmed)"
   ]
  },
  {
   "cell_type": "markdown",
   "metadata": {},
   "source": [
    "# ZIPCODE TO TYPE/CAUSE OF SHOOTING"
   ]
  },
  {
   "cell_type": "code",
   "execution_count": 117,
   "metadata": {},
   "outputs": [],
   "source": [
    "incident_desc = {}\n",
    "reverse_desc = {}\n",
    "iterator = 1\n",
    "for index, row in result.iterrows():\n",
    "    if type(row['incident_characteristics']) == type(0.0):\n",
    "        continue\n",
    "    #print(row['incident_characteristics'])\n",
    "    t = row['incident_characteristics'].split(\"||\")\n",
    "    for i in t:\n",
    "        if i in incident_desc.keys():\n",
    "            continue\n",
    "        else:\n",
    "            reverse_desc[iterator] = i\n",
    "            incident_desc[i] = iterator\n",
    "            iterator+=1"
   ]
  },
  {
   "cell_type": "code",
   "execution_count": 119,
   "metadata": {},
   "outputs": [],
   "source": [
    "incident_char_list = []\n",
    "for index, row in result.iterrows():\n",
    "    if type(row['incident_characteristics']) == type(0.0):\n",
    "        continue\n",
    "    #print(row['incident_characteristics'])\n",
    "    t = row['incident_characteristics'].split(\"||\")\n",
    "    for i in t:\n",
    "        temp = [incident_desc[i], row['Zipcode']]\n",
    "        incident_char_list.append(temp)"
   ]
  },
  {
   "cell_type": "code",
   "execution_count": 121,
   "metadata": {},
   "outputs": [
    {
     "name": "stdout",
     "output_type": "stream",
     "text": [
      "\n",
      "\n",
      "\n",
      " Rules: \n",
      "\n",
      "{(27617,): ((60,), 0.6710526315789473), (23704,): ((1,), 0.5825242718446602), (23523,): ((1,), 0.5229357798165137), (33607,): ((60,), 0.6363636363636364), (33126,): ((60,), 0.5132743362831859), (33004,): ((60,), 0.51875), (77061,): ((60,), 0.5714285714285714), (75235,): ((60,), 0.6073619631901841), (82609,): ((7,), 0.5930521091811415)}\n"
     ]
    }
   ],
   "source": [
    "incident_char_list_pattern = find_frequent_patterns(incident_char_list, 0.5)\n",
    "incident_char_list_rules = generate_association_rules(incident_char_list,incident_char_list_pattern, 0.5)\n",
    "print(\"\\n\\n\\n Rules: \\n\")\n",
    "print(incident_char_list_rules)"
   ]
  },
  {
   "cell_type": "markdown",
   "metadata": {},
   "source": [
    "   ## GENDER TO NUMBER KILLED"
   ]
  },
  {
   "cell_type": "code",
   "execution_count": 122,
   "metadata": {},
   "outputs": [],
   "source": [
    "gender_vs_number_killed = []\n",
    "for index, row in result.iterrows():\n",
    "    if type(row['participant_gender']) == type(0.0):\n",
    "        continue\n",
    "    #print(row['incident_characteristics'])\n",
    "    \n",
    "    t = row['participant_gender'].split(\"||\")\n",
    "    for i in t:\n",
    "        sex = -1\n",
    "        if \"Male\" in i:\n",
    "            sex = -1000\n",
    "        elif \"Female\" in i:\n",
    "            sex = 1000\n",
    "        else:\n",
    "            sex = 2000\n",
    "        temp = [sex,row['n_killed']]\n",
    "        gender_vs_number_killed.append(temp)"
   ]
  },
  {
   "cell_type": "code",
   "execution_count": 123,
   "metadata": {},
   "outputs": [
    {
     "name": "stdout",
     "output_type": "stream",
     "text": [
      "{(17,): 35, (6,): 71, (-1000, 6): 44, (50,): 78, (-1000, 50): 61, (5, 1000): 73, (-1000, 5): 104, (4, 1000): 203, (-1000, 4): 345, (3, 1000): 664, (-1000, 3): 1277, (2, 1000): 2809, (-1000, 2): 7286, (1, 1000): 8070, (0, 1000): 25423, (1,): 74329, (-1000, 1): 66259, (0,): 223586, (-1000, 0): 198163, (-1000,): 273627}\n",
      "\n",
      " Rules: \n",
      "\n",
      "{(6,): ((-1000,), 0.6197183098591549), (50,): ((-1000,), 0.782051282051282), (-1000,): ((0,), 0.7242085028158771), (1,): ((-1000,), 0.891428648306852), (0,): ((-1000,), 0.8862943118084317)}\n"
     ]
    }
   ],
   "source": [
    "gender_vs_killed_pattern = find_frequent_patterns(gender_vs_number_killed, len(gender_vs_number_killed)/10000)\n",
    "print(gender_vs_killed_pattern)\n",
    "gender_vs_killed_rules = generate_association_rules(gender_vs_number_killed,gender_vs_killed_pattern, 0.2)\n",
    "print(\"\\n Rules: \\n\")\n",
    "print(gender_vs_killed_rules)"
   ]
  },
  {
   "cell_type": "code",
   "execution_count": 124,
   "metadata": {},
   "outputs": [
    {
     "name": "stdout",
     "output_type": "stream",
     "text": [
      "\n",
      " Rules: \n",
      "\n",
      "{(50,): ((-1000,), 0.782051282051282), (1,): ((-1000,), 0.891428648306852), (0,): ((-1000,), 0.8862943118084317)}\n"
     ]
    }
   ],
   "source": [
    "gender_vs_killed_rules = generate_association_rules(gender_vs_number_killed,gender_vs_killed_pattern, 0.75)\n",
    "print(\"\\n Rules: \\n\")\n",
    "print(gender_vs_killed_rules)"
   ]
  },
  {
   "cell_type": "code",
   "execution_count": 125,
   "metadata": {
    "scrolled": true
   },
   "outputs": [],
   "source": [
    "def roundUpToMultiple(number, multiple):\n",
    "    num = number + (multiple - 1)\n",
    "    return num - (num % multiple)"
   ]
  },
  {
   "cell_type": "markdown",
   "metadata": {},
   "source": [
    "## INCOME TO NUMBER OF PEOPLE KILLED"
   ]
  },
  {
   "cell_type": "code",
   "execution_count": 126,
   "metadata": {},
   "outputs": [],
   "source": [
    "killings_to_income = []\n",
    "for index, row in result.iterrows():\n",
    "    if float(row['Median']) == 0.0:\n",
    "        continue\n",
    "    temp = [roundUpToMultiple(float(row['Median']), 100),row['n_killed']]\n",
    "    killings_to_income.append(temp)"
   ]
  },
  {
   "cell_type": "code",
   "execution_count": 127,
   "metadata": {},
   "outputs": [
    {
     "name": "stdout",
     "output_type": "stream",
     "text": [
      "{(38100.0,): 875, (17900.0,): 880, (29100.0,): 893, (35000.0,): 980, (41400.0,): 1006, (51600.0,): 1041, (0, 51600.0): 883, (20300.0,): 1055, (0, 20300.0): 865, (25700.0,): 1543, (0, 25700.0): 1291, (2,): 3823, (1, 300000.0): 1778, (0, 300000.0): 8027, (1,): 40898, (0,): 160540}\n",
      "\n",
      " Rules: \n",
      "\n",
      "{(51600.0,): ((0,), 0.8482228626320846), (20300.0,): ((0,), 0.8199052132701422), (25700.0,): ((0,), 0.8366817887232664)}\n"
     ]
    }
   ],
   "source": [
    "killings_to_income_pattern = find_frequent_patterns(killings_to_income, len(killings_to_income)/250)\n",
    "print(killings_to_income_pattern)\n",
    "killings_to_income_rules = generate_association_rules(killings_to_income,killings_to_income_pattern, 0.2)\n",
    "print(\"\\n Rules: \\n\")\n",
    "print(killings_to_income_rules)"
   ]
  },
  {
   "cell_type": "markdown",
   "metadata": {},
   "source": [
    "# Most frequent State "
   ]
  },
  {
   "cell_type": "code",
   "execution_count": 128,
   "metadata": {},
   "outputs": [],
   "source": [
    "df_temp = result[np.isfinite(result['state_house_district'])]"
   ]
  },
  {
   "cell_type": "code",
   "execution_count": 129,
   "metadata": {},
   "outputs": [],
   "source": [
    "state_house_dstrict = []\n",
    "for index, row in df_temp.iterrows():\n",
    "    temp = [state_dict[row['state']]]\n",
    "    state_house_dstrict.append(temp)"
   ]
  },
  {
   "cell_type": "code",
   "execution_count": 130,
   "metadata": {},
   "outputs": [
    {
     "name": "stdout",
     "output_type": "stream",
     "text": [
      "{(-45,): 2027, (-24,): 2028, (-41,): 2155, (-42,): 2559, (-33,): 2759, (-4,): 2812, (-22,): 2851, (-19,): 2895, (-6,): 2958, (-9,): 4198, (-28,): 4379, (-31,): 4727, (-26,): 5013, (-27,): 5081, (-16,): 5126, (-18,): 5218, (-11,): 5856, (-23,): 6356, (-10,): 6637, (-8,): 6976, (-5,): 7851, (-17,): 8096, (-20,): 8788, (-3,): 9472, (-30,): 9620, (-21,): 13782, (-2,): 14994, (-13,): 16048}\n"
     ]
    }
   ],
   "source": [
    "state_house_dstrict_pattern = find_frequent_patterns(state_house_dstrict, len(state_house_dstrict)/100)\n",
    "print(state_house_dstrict_pattern)\n",
    "state_house_dstrict_rules = generate_association_rules(state_house_dstrict,state_house_dstrict_pattern, 0.2)"
   ]
  }
 ],
 "metadata": {
  "kernelspec": {
   "display_name": "Python 3",
   "language": "python",
   "name": "python3"
  },
  "language_info": {
   "codemirror_mode": {
    "name": "ipython",
    "version": 3
   },
   "file_extension": ".py",
   "mimetype": "text/x-python",
   "name": "python",
   "nbconvert_exporter": "python",
   "pygments_lexer": "ipython3",
   "version": "3.6.4"
  }
 },
 "nbformat": 4,
 "nbformat_minor": 2
}
